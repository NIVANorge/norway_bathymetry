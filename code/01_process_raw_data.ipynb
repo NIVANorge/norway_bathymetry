{
 "cells": [
  {
   "cell_type": "code",
   "execution_count": 1,
   "id": "4dd7728d-96fe-4bbc-a783-d4ba7db3b803",
   "metadata": {},
   "outputs": [],
   "source": [
    "import gc\n",
    "import glob\n",
    "import os\n",
    "import subprocess\n",
    "\n",
    "import geopandas as gpd\n",
    "import numpy as np\n",
    "import pandas as pd\n",
    "import rasterio\n",
    "import rioxarray as rio\n",
    "from rasterio.errors import RasterioIOError\n",
    "from rasterio.features import geometry_mask\n",
    "from rasterio.warp import Resampling, calculate_default_transform, reproject\n",
    "from rioxarray.merge import merge_arrays"
   ]
  },
  {
   "cell_type": "markdown",
   "id": "9c38f90d-efef-425f-8df1-d7139e828df6",
   "metadata": {},
   "source": [
    "# Norway bathymetry\n",
    "\n",
    "Note book to create national scale bathymetry and topo-bathymetric data for Norway.\n",
    "\n",
    "50 m resolution bathymetric data for Norway is available from GeoNorge [here](https://kartkatalog.geonorge.no/metadata/kartverket/dybdedata-50m-grid/bbd687d0-d34f-4d95-9e60-27e330e0f76e). I have also previously created a national scale 40 m DEM by resampling the national 10 m resolution dataset. The result is here:\n",
    "\n",
    "    shared/common/01_datasets/spatial/dtm_merged_utm33/dtm_40m/norway_kartverket_40m_dtm_utm_z33.tif\n",
    "\n",
    "This notebook first fixes issues with the Kartverket bathymetric data, then merges the tiles to a single dataset and combines it with the 40 m  topographic dataset. The result is a single 40 m resolution topo-bathymetric dataset for Norway."
   ]
  },
  {
   "cell_type": "code",
   "execution_count": 2,
   "id": "0c138180-0436-4f47-86b6-e409b7c897a5",
   "metadata": {},
   "outputs": [],
   "source": [
    "# Properties for output mosaic\n",
    "res = 40\n",
    "epsg = 25833\n",
    "no_data_val = -9999\n",
    "dst_dtype = \"float32\"  # Rasterio dtypes: https://test2.biogeo.ucdavis.edu/rasterio/_modules/rasterio/dtypes.html\n",
    "bbox = (-80000, 6440000, 1122000, 7950000)  # xmin, ymin, xmax, ymax\n",
    "\n",
    "base_dir = r\"/home/jovyan/shared/common/01_datasets/spatial/norway_bathymetry_50m\"\n",
    "dem_path = r\"/home/jovyan/shared/common/01_datasets/spatial/dtm_merged_utm33/dtm_40m/norway_kartverket_40m_dtm_utm_z33.tif\""
   ]
  },
  {
   "cell_type": "markdown",
   "id": "e4680949-a378-43c1-825f-d818613941e5",
   "metadata": {},
   "source": [
    "## 1. Fix data issues\n",
    "\n",
    "The raw Kartverket data has some issues where rounding errors in the `.xyz` data mean the y-direction of values in the file becomes reversed. This leads to `Ungridded data` errors."
   ]
  },
  {
   "cell_type": "code",
   "execution_count": 3,
   "id": "53bed2f7-6d8b-4b7c-8443-a03b70983174",
   "metadata": {},
   "outputs": [],
   "source": [
    "search_path = os.path.join(base_dir, \"raw/*.xyz\")\n",
    "flist = glob.glob(search_path)\n",
    "\n",
    "print(\"The following datasets contain errors:\")\n",
    "for fpath in flist:\n",
    "    fname = os.path.split(fpath)[1]\n",
    "    try:\n",
    "        rio.open_rasterio(fpath, mask_and_scale=True, cache=False)\n",
    "\n",
    "    except RasterioIOError as e:\n",
    "        if \"Ungridded dataset\" in str(e):\n",
    "            print(f\"  {fname}\")\n",
    "        else:\n",
    "            raise"
   ]
  },
  {
   "cell_type": "markdown",
   "id": "fe047461-4b72-451f-a5aa-b4750f3a87d1",
   "metadata": {},
   "source": [
    "`.xyz` files are just plain text files containing lists of x, y and z coordinates. To fix the data issues, the code below reads the raw `.xyz` files and simply rounds the `x` and `y` columns to the nearest integer. It then writes them back to `.xyz` format in the `rounded` folder."
   ]
  },
  {
   "cell_type": "code",
   "execution_count": 4,
   "id": "a5b98543-6016-46e2-a508-ce6645e18b36",
   "metadata": {},
   "outputs": [],
   "source": [
    "search_path = os.path.join(base_dir, \"raw/*.xyz\")\n",
    "flist = glob.glob(search_path)\n",
    "for fpath in flist:\n",
    "    fname = os.path.split(fpath)[1]\n",
    "    df = pd.read_csv(fpath, sep=\" \", header=None)\n",
    "\n",
    "    # Round the first two columns to the nearest integer\n",
    "    df[0] = df[0].round().astype(int)\n",
    "    df[1] = df[1].round().astype(int)\n",
    "\n",
    "    out_csv = os.path.join(base_dir, \"rounded\", fname)\n",
    "    df.to_csv(out_csv, sep=\" \", header=False, index=False)"
   ]
  },
  {
   "cell_type": "markdown",
   "id": "1e9215b7-1f99-496c-9bd9-f6bda772459e",
   "metadata": {},
   "source": [
    "## 2. Merge"
   ]
  },
  {
   "cell_type": "code",
   "execution_count": 5,
   "id": "36df842e-9fb4-4fbf-954f-57fe45405037",
   "metadata": {},
   "outputs": [
    {
     "name": "stdout",
     "output_type": "stream",
     "text": [
      "Opening files...\n",
      "Merging tiles...\n",
      "Saving...\n",
      "Done.\n",
      "CPU times: user 3min 39s, sys: 16.5 s, total: 3min 55s\n",
      "Wall time: 3min 56s\n"
     ]
    }
   ],
   "source": [
    "%%time\n",
    "\n",
    "# List of DEM files to merge\n",
    "search_path = os.path.join(base_dir, \"rounded/*.xyz\")\n",
    "flist = glob.glob(search_path)\n",
    "\n",
    "print(\"Opening files...\")\n",
    "srcs = [rio.open_rasterio(fpath, mask_and_scale=True, cache=False) for fpath in flist]\n",
    "\n",
    "# Set original CRS for Kartverket data\n",
    "srcs = [ds.rio.write_crs(\"epsg:25833\", inplace=True) for ds in srcs]\n",
    "\n",
    "print(\"Merging tiles...\")\n",
    "bathy_ds = merge_arrays(srcs, bounds=bbox, res=res, crs=f\"epsg:{epsg}\")\n",
    "\n",
    "# Convert depths to negative\n",
    "bathy_ds.data = bathy_ds.data * -1\n",
    "\n",
    "print(\"Saving...\")\n",
    "bathy_path = os.path.join(base_dir, \"merged\", f\"norway_{res}m_bathymetry.tif\")\n",
    "bathy_ds.rio.write_nodata(no_data_val, inplace=True)\n",
    "bathy_ds.rio.write_crs(f\"epsg:{epsg}\", inplace=True)\n",
    "bathy_ds.rio.to_raster(\n",
    "    bathy_path,\n",
    "    compress=\"lzw\",\n",
    "    BIGTIFF=\"YES\",\n",
    "    tiled=True,\n",
    "    dtype=dst_dtype,\n",
    ")\n",
    "srcs = [src.close() for src in srcs]\n",
    "bathy_ds.close()\n",
    "del srcs, bathy_ds\n",
    "gc.collect()\n",
    "\n",
    "print(\"Done.\")"
   ]
  },
  {
   "cell_type": "markdown",
   "id": "4c671387-0668-4ea3-8c16-5f34eb213b83",
   "metadata": {},
   "source": [
    "## 3. Combine with topographic data"
   ]
  },
  {
   "cell_type": "code",
   "execution_count": 6,
   "id": "c06eaa89-b695-4823-8239-0e0c9a71ae0f",
   "metadata": {},
   "outputs": [
    {
     "name": "stdout",
     "output_type": "stream",
     "text": [
      "Merging...\n",
      "Saving...\n",
      "Done.\n",
      "CPU times: user 3min 3s, sys: 1min 15s, total: 4min 18s\n",
      "Wall time: 4min 21s\n"
     ]
    }
   ],
   "source": [
    "%%time\n",
    "\n",
    "# Read data\n",
    "bathy_path = os.path.join(base_dir, \"merged\", f\"norway_{res}m_bathymetry.tif\")\n",
    "bathy_ds = rio.open_rasterio(bathy_path, mask_and_scale=True, cache=False)\n",
    "dem_ds = rio.open_rasterio(dem_path, mask_and_scale=True, cache=False)\n",
    "\n",
    "# Set negative values in topo data to zero\n",
    "dem_ds.data[dem_ds.data < 0] = 0\n",
    "\n",
    "# Merge, using bathym data where available\n",
    "print(\"Merging...\")\n",
    "ds = merge_arrays(\n",
    "    [bathy_ds, dem_ds], method=\"first\", bounds=bbox, res=res, crs=f\"epsg:{epsg}\"\n",
    ")\n",
    "bathy_ds.close()\n",
    "dem_ds.close()\n",
    "del bathy_ds, dem_ds\n",
    "gc.collect()\n",
    "\n",
    "# Save\n",
    "print(\"Saving...\")\n",
    "merge_path = os.path.join(base_dir, \"merged\", f\"norway_{res}m_topobathymetry.tif\")\n",
    "ds.rio.write_nodata(no_data_val, inplace=True)\n",
    "ds.rio.write_crs(f\"epsg:{epsg}\", inplace=True)\n",
    "ds.rio.to_raster(\n",
    "    merge_path,\n",
    "    compress=\"lzw\",\n",
    "    BIGTIFF=\"YES\",\n",
    "    tiled=True,\n",
    "    dtype=dst_dtype,\n",
    ")\n",
    "ds.close()\n",
    "del ds\n",
    "gc.collect()\n",
    "\n",
    "print(\"Done.\")"
   ]
  }
 ],
 "metadata": {
  "kernelspec": {
   "display_name": "Python 3 (ipykernel)",
   "language": "python",
   "name": "python3"
  },
  "language_info": {
   "codemirror_mode": {
    "name": "ipython",
    "version": 3
   },
   "file_extension": ".py",
   "mimetype": "text/x-python",
   "name": "python",
   "nbconvert_exporter": "python",
   "pygments_lexer": "ipython3",
   "version": "3.11.6"
  }
 },
 "nbformat": 4,
 "nbformat_minor": 5
}
